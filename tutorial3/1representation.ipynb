{
 "cells": [
  {
   "cell_type": "markdown",
   "id": "2efc2b15-2788-4640-80b6-322c75797881",
   "metadata": {},
   "source": [
    "# 3.1 Pretext Tasks\n",
    "\n",
    "In this part of the tutorial we will pretrain a model on a pretext task. Pretext tasks are useful for data scarcity and transfer learning, as they are unsupervised ways for the model to capture general patterns present in the data as a warmup. Then, *hopefully* the same model can be effectively fine tuned on the downstream the task of interest."
   ]
  },
  {
   "cell_type": "code",
   "execution_count": 1,
   "id": "0656ef92-b562-4e92-82b8-52842723f527",
   "metadata": {},
   "outputs": [],
   "source": [
    "import torch\n",
    "import torch.nn as nn\n",
    "from torchvision.datasets import MNIST\n",
    "from torchvision import transforms\n",
    "from torch.utils.data import DataLoader, Dataset\n",
    "\n",
    "import matplotlib.pyplot as plt\n",
    "from tqdm import tqdm\n",
    "from typing import Tuple\n",
    "\n",
    "torch.manual_seed(0);"
   ]
  },
  {
   "cell_type": "markdown",
   "id": "e984e0be-8209-4cc2-be6a-8c8d7237b4f1",
   "metadata": {},
   "source": [
    "## Data\n",
    "\n",
    "We will be working again with the MNIST dataset. The pretext task is *image inpainting*. Essentially, a portion of the image is erased and we will train an autoencoder to reconstruct the original image. Then, we can use the encoder of our autoencoder as a pretrained backbone for a very simple model that will be tasked to classify the digits.\n",
    "\n",
    "We start by defining our dataset. We will be using `RandomErasing` as data augmentation. Feel free to add more and experiment!"
   ]
  },
  {
   "cell_type": "code",
   "execution_count": 2,
   "id": "6653f095-b5cf-4a3b-aec2-595528fc5010",
   "metadata": {},
   "outputs": [],
   "source": [
    "class AugmentedMNIST(Dataset):\n",
    "    def __init__(self):\n",
    "        self.augmentation_transform = transforms.Compose([\n",
    "            transforms.RandomErasing(\n",
    "                p=.8, # Probability of applying the augmentation\n",
    "                value=.5, # Value to fill the mask\n",
    "                scale=(.20, .25), # Range of what proportion of the image is erased (here it is between 20% and 25%)\n",
    "                ratio=(.5, 2) # Range of aspect ratio of the erased rectangular region (here between 1:2 and 2:1)\n",
    "            )\n",
    "        ])\n",
    "        self.to_tensor = transforms.ToTensor()\n",
    "        self.mnist = MNIST('data', download=True)\n",
    "    \n",
    "    def __len__(self):\n",
    "        return len(self.mnist)\n",
    "    \n",
    "    def __getitem__(self, idx: int) -> Tuple[torch.Tensor, torch.Tensor, torch.Tensor]:\n",
    "        image, label = self.mnist[idx]\n",
    "        image_tensor = self.to_tensor(image)\n",
    "        augmented_image_tensor = self.augmentation_transform(image_tensor)\n",
    "        return augmented_image_tensor, image_tensor, labele\n",
    "\n",
    "dataset = AugmentedMNIST()\n",
    "dataloader = DataLoader(dataset, batch_size=100, shuffle=True)"
   ]
  },
  {
   "cell_type": "markdown",
   "id": "6106513b-b5be-4b77-8dd2-e652162e0360",
   "metadata": {},
   "source": [
    "Let's visualize a few images and their augmented versions"
   ]
  },
  {
   "cell_type": "code",
   "execution_count": 3,
   "id": "deca40a6-ea9c-4668-a01a-ce5068de53b2",
   "metadata": {},
   "outputs": [
    {
     "data": {
      "image/png": "[encoded data removed]",
      "text/plain": [
       "<Figure size 640x480 with 10 Axes>"
      ]
     },
     "metadata": {},
     "output_type": "display_data"
    }
   ],
   "source": [
    "fig, ax = plt.subplots(nrows=2, ncols=5)\n",
    "\n",
    "for i in range(5):\n",
    "    augmentation, image, label = dataset[i]\n",
    "    ax[0][i].imshow(image[0], cmap='gray')\n",
    "    ax[1][i].imshow(augmentation[0], cmap='gray')\n",
    "    ax[0][i].set_title(f'Label: {label}')\n",
    "    ax[0][i].axis('off')\n",
    "    ax[1][i].axis('off')\n",
    "plt.tight_layout()\n",
    "plt.show()"
   ]
  },
  {
   "cell_type": "markdown",
   "id": "815dbb0b-4a46-4ae9-a1a9-658845b6acc0",
   "metadata": {},
   "source": [
    "It is looking good! Let us now define our simple autoencoder:\n",
    "\n",
    "## Model"
   ]
  },
  {
   "cell_type": "code",
   "execution_count": 4,
   "id": "7594a17b-e7cc-4d36-ae7f-fd546842ff19",
   "metadata": {},
   "outputs": [
    {
     "data": {
      "text/plain": [
       "209968"
      ]
     },
     "execution_count": 4,
     "metadata": {},
     "output_type": "execute_result"
    }
   ],
   "source": [
    "class AutoEncoder(nn.Module):\n",
    "    \n",
    "    def __init__(self) -> None:\n",
    "        super().__init__()\n",
    "        self.encoder = nn.Sequential(\n",
    "            nn.Linear(28*28, 128),\n",
    "            nn.ReLU(),\n",
    "            nn.Linear(128, 32),\n",
    "        )\n",
    "        self.decoder = nn.Sequential(\n",
    "            nn.Linear(32, 128),\n",
    "            nn.ReLU(),\n",
    "            nn.Linear(128, 28*28),\n",
    "            nn.Sigmoid()\n",
    "        )\n",
    "        \n",
    "    def forward(self, x: torch.Tensor) -> torch.Tensor:\n",
    "        x = self.encoder(x)\n",
    "        x = self.decoder(x)\n",
    "        return x\n",
    "\n",
    "autoencoder = AutoEncoder()\n",
    "sum(p.numel() for p in autoencoder.parameters())"
   ]
  },
  {
   "cell_type": "markdown",
   "id": "aa80ee85-472d-45e7-8f76-e7beefbd63d4",
   "metadata": {},
   "source": [
    "Our autoencoder includes a bit more than 200 000 parameters and its latent space is 32-dimensional, i.e. 6% of the original input space (28 x 28). Feel free to change the architecture!\n",
    "\n",
    "## Training"
   ]
  },
  {
   "cell_type": "code",
   "execution_count": 5,
   "id": "cd4a1c15-4ab3-4286-a3ce-1a714b4f4ee1",
   "metadata": {},
   "outputs": [],
   "source": [
    "loss_fn = nn.BCELoss()\n",
    "optimizer_autoencoder = torch.optim.Adam(autoencoder.parameters())"
   ]
  },
  {
   "cell_type": "markdown",
   "id": "dc0b9ee9-bc59-4257-b7ca-33cdba9c41c2",
   "metadata": {},
   "source": [
    "Similarly to last week, the loss function is the reconstruction loss, i.e., binary cross entropy. Now we are ready to train! The workflow is as always:"
   ]
  },
  {
   "cell_type": "code",
   "execution_count": 6,
   "id": "53ef79f2-25ba-4d0c-90b8-58763f4c6f83",
   "metadata": {},
   "outputs": [
    {
     "name": "stderr",
     "output_type": "stream",
     "text": [
      "100%|█████████████████████████████████████████| 600/600 [00:14<00:00, 42.52it/s]\n"
     ]
    },
    {
     "name": "stdout",
     "output_type": "stream",
     "text": [
      "Epoch 0 | Loss: 0.2240\n"
     ]
    },
    {
     "name": "stderr",
     "output_type": "stream",
     "text": [
      "100%|█████████████████████████████████████████| 600/600 [00:15<00:00, 39.53it/s]\n"
     ]
    },
    {
     "name": "stdout",
     "output_type": "stream",
     "text": [
      "Epoch 1 | Loss: 0.1624\n"
     ]
    },
    {
     "name": "stderr",
     "output_type": "stream",
     "text": [
      "100%|█████████████████████████████████████████| 600/600 [00:15<00:00, 39.54it/s]\n"
     ]
    },
    {
     "name": "stdout",
     "output_type": "stream",
     "text": [
      "Epoch 2 | Loss: 0.1486\n"
     ]
    },
    {
     "name": "stderr",
     "output_type": "stream",
     "text": [
      "100%|█████████████████████████████████████████| 600/600 [00:14<00:00, 41.75it/s]\n"
     ]
    },
    {
     "name": "stdout",
     "output_type": "stream",
     "text": [
      "Epoch 3 | Loss: 0.1419\n"
     ]
    },
    {
     "name": "stderr",
     "output_type": "stream",
     "text": [
      "100%|█████████████████████████████████████████| 600/600 [00:15<00:00, 38.77it/s]"
     ]
    },
    {
     "name": "stdout",
     "output_type": "stream",
     "text": [
      "Epoch 4 | Loss: 0.1378\n"
     ]
    },
    {
     "name": "stderr",
     "output_type": "stream",
     "text": [
      "\n"
     ]
    }
   ],
   "source": [
    "for epoch in range(5):\n",
    "    autoencoder.train()\n",
    "    total_loss = 0.\n",
    "    for X, y, _ in tqdm(dataloader):\n",
    "\n",
    "        # Inputs: Augmented images\n",
    "        # Labels: Original images\n",
    "        X, y = X.flatten(1), y.flatten(1)\n",
    "        \n",
    "        optimizer_autoencoder.zero_grad()\n",
    "        y_pred = autoencoder(X)\n",
    "        loss = loss_fn(y_pred, y)\n",
    "        loss.backward()\n",
    "        optimizer.step()\n",
    "        \n",
    "        total_loss += loss.item()\n",
    "    \n",
    "    print(f\"Epoch {epoch} | Loss: {total_loss/len(dataloader):.4f}\")"
   ]
  },
  {
   "cell_type": "markdown",
   "id": "407e184a-2e6d-43fc-8082-34ee445c568e",
   "metadata": {},
   "source": [
    "## Evaluation\n",
    "\n",
    "Our model is definitely learning. Let's visualize some reconstructions:"
   ]
  },
  {
   "cell_type": "code",
   "execution_count": 7,
   "id": "b23d79a2-7943-46a4-b29a-4103e606a385",
   "metadata": {},
   "outputs": [
    {
     "data": {
      "image/png": "[encoded data removed]",
      "text/plain": [
       "<Figure size 640x480 with 15 Axes>"
      ]
     },
     "metadata": {},
     "output_type": "display_data"
    }
   ],
   "source": [
    "fig, ax = plt.subplots(nrows=3, ncols=5)\n",
    "\n",
    "for i in range(5):\n",
    "    augmentation, image, label = dataset[i]\n",
    "    ax[0][i].imshow(image[0], cmap='gray')\n",
    "    ax[1][i].imshow(augmentation[0], cmap='gray')\n",
    "    with torch.inference_mode():\n",
    "        reconstruction = autoencoder(augmentation.flatten(1)).reshape(28, 28)\n",
    "    ax[2][i].imshow(reconstruction, cmap='gray')\n",
    "    \n",
    "    ax[0][i].set_title(f'Label: {label}')\n",
    "    ax[0][i].axis('off')\n",
    "    ax[1][i].axis('off')\n",
    "    ax[2][i].axis('off')\n",
    "    \n",
    "plt.tight_layout()\n",
    "plt.show()"
   ]
  },
  {
   "cell_type": "markdown",
   "id": "05a9ba50-7736-4a11-b794-3c83a4d56191",
   "metadata": {},
   "source": [
    "## Your Task\n",
    "\n",
    "It appears that our model is doing a semi-decent job at filling the images. Now let us use the encoder as a backbone of a very simple classifier. In our case, that could be a single linear layer that projects the latent space to the class dimension, which would be equivalent to fitting a regular logistic regression on our latent space. See the performance after a few epochs and try to quantitatively describe the effect of the pretrained backbone!"
   ]
  },
  {
   "cell_type": "code",
   "execution_count": null,
   "id": "a2daca64-bedb-4853-91a0-b17495537066",
   "metadata": {},
   "outputs": [],
   "source": [
    "# Your code here"
   ]
  }
 ],
 "metadata": {
  "kernelspec": {
   "display_name": "Python 3 (ipykernel)",
   "language": "python",
   "name": "python3"
  },
  "language_info": {
   "codemirror_mode": {
    "name": "ipython",
    "version": 3
   },
   "file_extension": ".py",
   "mimetype": "text/x-python",
   "name": "python",
   "nbconvert_exporter": "python",
   "pygments_lexer": "ipython3",
   "version": "3.10.12"
  }
 },
 "nbformat": 4,
 "nbformat_minor": 5
}
