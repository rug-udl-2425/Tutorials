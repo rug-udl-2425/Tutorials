{
 "cells": [
  {
   "cell_type": "code",
   "execution_count": 1,
   "id": "0656ef92-b562-4e92-82b8-52842723f527",
   "metadata": {},
   "outputs": [],
   "source": [
    "import torch\n",
    "import torch.nn as nn\n",
    "from torchvision.datasets import MNIST\n",
    "from torchvision import transforms\n",
    "from torch.utils.data import DataLoader, Dataset\n",
    "\n",
    "import random as rd\n",
    "from tqdm import tqdm\n",
    "from typing import Tuple"
   ]
  },
  {
   "cell_type": "code",
   "execution_count": 2,
   "id": "6653f095-b5cf-4a3b-aec2-595528fc5010",
   "metadata": {},
   "outputs": [],
   "source": [
    "class RotatedMNIST(Dataset):\n",
    "    def __init__(self):\n",
    "        self.mnist = MNIST('data', transform=transforms.ToTensor(), download=True)\n",
    "        self.angles = [0, 90, 180, 270]\n",
    "    \n",
    "    def __len__(self):\n",
    "        return len(self.mnist)\n",
    "    \n",
    "    def __getitem__(self, idx: int) -> Tuple[torch.Tensor, torch.Tensor, torch.Tensor]:\n",
    "        img, label = self.mnist[idx]\n",
    "        angle_idx = torch.randint(low=0, high=len(self.angles) - 1, size=())\n",
    "        rotated_img = transforms.functional.rotate(img, self.angles[angle_idx])\n",
    "        return rotated_img, angle_idx, label\n",
    "\n",
    "dataset = RotatedMNIST()\n",
    "dataloader = DataLoader(dataset, batch_size=100, shuffle=True)"
   ]
  },
  {
   "cell_type": "code",
   "execution_count": 6,
   "id": "e37ccc5d-f4e6-43e2-b555-cf4e153df795",
   "metadata": {},
   "outputs": [],
   "source": [
    "class RotationPredictor(nn.Module):\n",
    "    def __init__(self) -> None:\n",
    "        super().__init__()\n",
    "        self.backbone = nn.Sequential(\n",
    "            nn.Conv2d(in_channels=1, out_channels=4, kernel_size=3, stride=1, padding=1),\n",
    "            nn.ReLU(),\n",
    "            nn.MaxPool2d(kernel_size=2, stride=2),\n",
    "            nn.Conv2d(in_channels=4, out_channels=2, kernel_size=3, stride=1, padding=1),\n",
    "            nn.ReLU(),\n",
    "            nn.MaxPool2d(kernel_size=2, stride=2),\n",
    "            nn.Flatten()\n",
    "        )\n",
    "        \n",
    "        self.rotation_classifier = nn.Sequential(\n",
    "            nn.Linear(98, 4),\n",
    "            nn.Softmax(dim=1)\n",
    "        )\n",
    "        \n",
    "    def forward(self, x: torch.Tensor) -> torch.Tensor:\n",
    "        x = self.backbone(x)\n",
    "        x = self.rotation_classifier(x)\n",
    "        return x\n",
    "\n",
    "model = RotationPredictor()"
   ]
  },
  {
   "cell_type": "code",
   "execution_count": 7,
   "id": "cd4a1c15-4ab3-4286-a3ce-1a714b4f4ee1",
   "metadata": {},
   "outputs": [],
   "source": [
    "loss_fn = nn.CrossEntropyLoss()\n",
    "optimizer = torch.optim.Adam(model.parameters())"
   ]
  },
  {
   "cell_type": "code",
   "execution_count": 8,
   "id": "53ef79f2-25ba-4d0c-90b8-58763f4c6f83",
   "metadata": {},
   "outputs": [
    {
     "name": "stderr",
     "output_type": "stream",
     "text": [
      "100%|█████████████████████████████████████████| 600/600 [00:14<00:00, 42.18it/s]\n"
     ]
    },
    {
     "name": "stdout",
     "output_type": "stream",
     "text": [
      "Epoch 0 | Loss: 0.8975 | Acc: 0.8687\n"
     ]
    },
    {
     "name": "stderr",
     "output_type": "stream",
     "text": [
      "100%|█████████████████████████████████████████| 600/600 [00:14<00:00, 42.11it/s]"
     ]
    },
    {
     "name": "stdout",
     "output_type": "stream",
     "text": [
      "Epoch 1 | Loss: 0.7777 | Acc: 0.9695\n"
     ]
    },
    {
     "name": "stderr",
     "output_type": "stream",
     "text": [
      "\n"
     ]
    }
   ],
   "source": [
    "for epoch in range(2):\n",
    "    model.train()\n",
    "    total_loss, total_acc = 0., 0.\n",
    "    for X, y, _ in tqdm(dataloader):\n",
    "        \n",
    "        optimizer.zero_grad()\n",
    "        y_pred = model(X)\n",
    "        loss = loss_fn(y_pred, y)\n",
    "        acc = (y_pred.argmax(-1) == y).float().mean()\n",
    "        loss.backward()\n",
    "        optimizer.step()\n",
    "        \n",
    "        total_loss += loss.item()\n",
    "        total_acc += acc.item()\n",
    "    \n",
    "    print(f\"Epoch {epoch} | Loss: {total_loss/len(dataloader):.4f} | Acc: {total_acc/len(dataloader):.4f}\")"
   ]
  },
  {
   "cell_type": "code",
   "execution_count": 13,
   "id": "f3c064db-a871-4af1-9d76-667cc17fb9b1",
   "metadata": {},
   "outputs": [],
   "source": [
    "backbone_frozen = model.backbone\n",
    "# for param in backbone_frozen.parameters():\n",
    "#     param.requires_grad = False\n",
    "digit_classifier = nn.Sequential(\n",
    "    backbone_frozen,\n",
    "    nn.Linear(98, 10),\n",
    "    nn.Softmax(dim=1)\n",
    ")"
   ]
  },
  {
   "cell_type": "code",
   "execution_count": 14,
   "id": "0af81654-579d-4d6b-8c57-07b8e44830f7",
   "metadata": {},
   "outputs": [],
   "source": [
    "optimizer = torch.optim.Adam(digit_classifier.parameters())"
   ]
  },
  {
   "cell_type": "code",
   "execution_count": 15,
   "id": "f45da600-0340-4136-bdc6-db3a30ef13a4",
   "metadata": {},
   "outputs": [
    {
     "name": "stderr",
     "output_type": "stream",
     "text": [
      "100%|█████████████████████████████████████████| 600/600 [00:12<00:00, 47.41it/s]\n"
     ]
    },
    {
     "name": "stdout",
     "output_type": "stream",
     "text": [
      "Epoch 0 | Loss: 2.0346 | Acc: 0.4382\n"
     ]
    },
    {
     "name": "stderr",
     "output_type": "stream",
     "text": [
      "100%|█████████████████████████████████████████| 600/600 [00:13<00:00, 45.92it/s]"
     ]
    },
    {
     "name": "stdout",
     "output_type": "stream",
     "text": [
      "Epoch 1 | Loss: 1.9527 | Acc: 0.5213\n"
     ]
    },
    {
     "name": "stderr",
     "output_type": "stream",
     "text": [
      "\n"
     ]
    }
   ],
   "source": [
    "for epoch in range(2):\n",
    "    digit_classifier.train()\n",
    "    total_loss, total_acc = 0., 0.\n",
    "    for X, _, y in tqdm(dataloader):\n",
    "        \n",
    "        optimizer.zero_grad()\n",
    "        y_pred = digit_classifier(X)\n",
    "        loss = loss_fn(y_pred, y)\n",
    "        acc = (y_pred.argmax(-1) == y).float().mean()\n",
    "        loss.backward()\n",
    "        optimizer.step()\n",
    "        \n",
    "        total_loss += loss.item()\n",
    "        total_acc += acc.item()\n",
    "    \n",
    "    print(f\"Epoch {epoch} | Loss: {total_loss/len(dataloader):.4f} | Acc: {total_acc/len(dataloader):.4f}\")"
   ]
  },
  {
   "cell_type": "code",
   "execution_count": null,
   "id": "4f3d3a75-aab0-4733-9e04-1fb159d4a254",
   "metadata": {},
   "outputs": [],
   "source": []
  }
 ],
 "metadata": {
  "kernelspec": {
   "display_name": "Python 3 (ipykernel)",
   "language": "python",
   "name": "python3"
  },
  "language_info": {
   "codemirror_mode": {
    "name": "ipython",
    "version": 3
   },
   "file_extension": ".py",
   "mimetype": "text/x-python",
   "name": "python",
   "nbconvert_exporter": "python",
   "pygments_lexer": "ipython3",
   "version": "3.10.12"
  }
 },
 "nbformat": 4,
 "nbformat_minor": 5
}
