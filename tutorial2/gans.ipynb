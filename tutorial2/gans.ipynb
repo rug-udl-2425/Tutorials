{
 "cells": [
  {
   "cell_type": "markdown",
   "id": "06426846-ecb6-41d7-8847-843b5d655b98",
   "metadata": {},
   "source": [
    "# 2.2 Generative Adversarial Networks\n",
    "\n",
    "In this part of the tutorial, we will look at Generative Adversarial Networks (GANs). GANs include a pair of neural networks, namely the generator and the discriminator, which are trained in tandem. The discriminator is a binary classifier that is tasked to differentiate between real and fake datapoints, while the generator attempts to *fool* the discriminator by generating realistic fake datapoints from random noise. That way, our 2 models are competing (they are adversaries). The aim of GANs is to find a way to generate good datapoints, so the generator needs to be good. On the other hand, the discriminator needs to be good since it \"sets a high bar\" for the generator."
   ]
  },
  {
   "cell_type": "code",
   "execution_count": 1,
   "id": "5e3572de-737b-43dc-b3cd-6e6a95536401",
   "metadata": {},
   "outputs": [],
   "source": [
    "import torch\n",
    "import torch.nn as nn\n",
    "import torch.nn.functional as F\n",
    "from torch.utils.data import DataLoader, TensorDataset\n",
    "\n",
    "import os\n",
    "import matplotlib.pyplot as plt\n",
    "from sklearn.datasets import load_digits\n",
    "\n",
    "torch.manual_seed(0);"
   ]
  },
  {
   "cell_type": "markdown",
   "id": "9fce7e04-2a48-4069-ab67-c49c04f4babc",
   "metadata": {},
   "source": [
    "## Data\n",
    "\n",
    "GANs normally require a lot of data and training to produce useful results. For our implementation we will use the `digits` dataset from `sklearn`. It is essentially a baby version of MNIST with way fewer samples. The images are 8 x 8 and 4-bit."
   ]
  },
  {
   "cell_type": "code",
   "execution_count": 2,
   "id": "17734126-4421-41ec-9c10-4962f2887d1a",
   "metadata": {},
   "outputs": [
    {
     "data": {
      "text/plain": [
       "1797"
      ]
     },
     "execution_count": 2,
     "metadata": {},
     "output_type": "execute_result"
    }
   ],
   "source": [
    "# Download from sklearn\n",
    "digits, labels = load_digits(return_X_y=True)\n",
    "\n",
    "# Convert to tensors and standardize\n",
    "digits_tensor = (torch.from_numpy(digits) / 16.).float()\n",
    "labels_tensor = torch.from_numpy(labels).long()\n",
    "dataset = TensorDataset(digits_tensor, labels_tensor)\n",
    "\n",
    "# Instatiate a DataLoader, which will be used to fed samples to the models\n",
    "dataloader = DataLoader(dataset, batch_size=100, shuffle=True)\n",
    "len(dataset)"
   ]
  },
  {
   "cell_type": "code",
   "execution_count": 3,
   "id": "8b9c118f-3eb6-4559-97be-907d20c37daf",
   "metadata": {},
   "outputs": [
    {
     "data": {
      "image/png": "[encoded data removed]",
      "text/plain": [
       "<Figure size 640x480 with 1 Axes>"
      ]
     },
     "metadata": {},
     "output_type": "display_data"
    }
   ],
   "source": [
    "plt.imshow(digits[0].reshape(8,8), cmap='gray')\n",
    "plt.axis('off')\n",
    "plt.title('Example image from the digits dataset')\n",
    "plt.show()"
   ]
  },
  {
   "cell_type": "markdown",
   "id": "cf8ca7d2-33a7-4010-9a12-531bbadee021",
   "metadata": {},
   "source": [
    "## GAN\n",
    "\n",
    "Now we can define our GAN. \n",
    "\n",
    "The generator is a regular feed-forward neural network whose input is a random noise vector (in our case it is a 8-dimensional vector with each component sampled from $\\mathcal{N}(0,1)$). The output is a vector in the shape of the datapoints (in our case a 64-dimensional vector). Since the images have values between 0 and 1, we apply the sigmoid activation function to the last layer of the generator.\n",
    "\n",
    "The discriminator is another feed-forward neural network where the inputs are images and the output is a single scalar, representing the probability that the input is a *real* image. Since the probability is between 0 and 1, we again apply the sigmoid activation function to the last layer."
   ]
  },
  {
   "cell_type": "code",
   "execution_count": 4,
   "id": "910b0bec-d116-4568-95ee-b9432bfe7f1f",
   "metadata": {},
   "outputs": [],
   "source": [
    "latent_dim = 32\n",
    "generator = nn.Sequential(\n",
    "    nn.Linear(latent_dim, 128),\n",
    "    nn.ReLU(),\n",
    "    nn.Linear(128, 256),\n",
    "    nn.ReLU(),\n",
    "    nn.Linear(256, 64),\n",
    "    nn.Sigmoid()\n",
    ")\n",
    "\n",
    "discriminator = nn.Sequential(\n",
    "    nn.Linear(64, 128),\n",
    "    nn.ReLU(),\n",
    "    nn.Linear(128, 64),\n",
    "    nn.ReLU(),\n",
    "    nn.Linear(64, 1),\n",
    "    nn.Sigmoid()\n",
    ")"
   ]
  },
  {
   "cell_type": "markdown",
   "id": "862699ef-97f6-4220-82ff-ecd110ef4fe9",
   "metadata": {},
   "source": [
    "Let's test them:"
   ]
  },
  {
   "cell_type": "code",
   "execution_count": 5,
   "id": "c22f9b9d-8363-4138-9ed9-42ce7a418ce6",
   "metadata": {},
   "outputs": [
    {
     "data": {
      "image/png": "[encoded data removed]",
      "text/plain": [
       "<Figure size 640x480 with 1 Axes>"
      ]
     },
     "metadata": {},
     "output_type": "display_data"
    }
   ],
   "source": [
    "noise = torch.randn(1, latent_dim)\n",
    "with torch.inference_mode():\n",
    "    fake_image = generator(noise)\n",
    "    discriminator_prediction = discriminator(fake_image)\n",
    "plt.imshow(fake_image.reshape(8,8), cmap='gray')\n",
    "plt.axis('off')\n",
    "plt.title(f'Prediction of an untrained GAN given a noise vector\\nDiscriminator prediction: {discriminator_prediction.item():.4f}')\n",
    "plt.show()"
   ]
  },
  {
   "cell_type": "markdown",
   "id": "6a1e32cf-7b30-49b9-951c-80c222094c3d",
   "metadata": {},
   "source": [
    "As expected, the generation is random noise and the discriminator's prediction is 50/50. Let's train!"
   ]
  },
  {
   "cell_type": "markdown",
   "id": "4b49982a-4000-4aa9-bddc-27a92e852f60",
   "metadata": {},
   "source": [
    "## Training\n",
    "\n",
    "The discriminator is intuitively trained with the binary cross entropy loss as its task is a binary classification problem (real=1, fake=0). The generator is trained via the discriminator, where its aim is for the discriminator to predict 1 given the generated images. Since the two models are trained independently, we need to define an optimizer object for each of them:"
   ]
  },
  {
   "cell_type": "code",
   "execution_count": 6,
   "id": "5925518a-3671-4159-beed-32748d795097",
   "metadata": {},
   "outputs": [],
   "source": [
    "loss_fn = nn.BCELoss()\n",
    "generator_optimizer = torch.optim.Adam(generator.parameters())\n",
    "discriminator_optimizer = torch.optim.Adam(discriminator.parameters())"
   ]
  },
  {
   "cell_type": "code",
   "execution_count": 7,
   "id": "16ed9e54-9bff-4c10-ba72-b6f1f1758878",
   "metadata": {
    "scrolled": true
   },
   "outputs": [
    {
     "name": "stdout",
     "output_type": "stream",
     "text": [
      "\n",
      "                Epoch: 0 |                 D acc real: 1.0000 |                 D acc fake: 0.8454 |                 D loss: 1.1780 |                 G loss 0.7633\n",
      "            \n",
      "\n",
      "                Epoch: 100 |                 D acc real: 0.9485 |                 D acc fake: 1.0000 |                 D loss: 0.3364 |                 G loss 3.0652\n",
      "            \n",
      "\n",
      "                Epoch: 200 |                 D acc real: 0.8969 |                 D acc fake: 0.8866 |                 D loss: 0.7392 |                 G loss 2.3958\n",
      "            \n",
      "\n",
      "                Epoch: 300 |                 D acc real: 0.8969 |                 D acc fake: 0.9381 |                 D loss: 0.5216 |                 G loss 2.1157\n",
      "            \n",
      "\n",
      "                Epoch: 400 |                 D acc real: 0.8557 |                 D acc fake: 0.8557 |                 D loss: 0.8623 |                 G loss 1.3690\n",
      "            \n",
      "\n",
      "                Epoch: 500 |                 D acc real: 0.6804 |                 D acc fake: 0.8557 |                 D loss: 1.0192 |                 G loss 1.3074\n",
      "            \n",
      "\n",
      "                Epoch: 600 |                 D acc real: 0.7423 |                 D acc fake: 0.7835 |                 D loss: 1.0018 |                 G loss 1.2229\n",
      "            \n",
      "\n",
      "                Epoch: 700 |                 D acc real: 0.6495 |                 D acc fake: 0.7423 |                 D loss: 1.1578 |                 G loss 1.2495\n",
      "            \n",
      "\n",
      "                Epoch: 800 |                 D acc real: 0.6907 |                 D acc fake: 0.6804 |                 D loss: 1.1653 |                 G loss 1.1142\n",
      "            \n",
      "\n",
      "                Epoch: 900 |                 D acc real: 0.7113 |                 D acc fake: 0.7526 |                 D loss: 1.0709 |                 G loss 1.1696\n",
      "            \n",
      "\n",
      "                Epoch: 1000 |                 D acc real: 0.7010 |                 D acc fake: 0.7320 |                 D loss: 1.0355 |                 G loss 1.1302\n",
      "            \n",
      "\n",
      "                Epoch: 1100 |                 D acc real: 0.8144 |                 D acc fake: 0.8041 |                 D loss: 0.8328 |                 G loss 1.4195\n",
      "            \n",
      "\n",
      "                Epoch: 1200 |                 D acc real: 0.7320 |                 D acc fake: 0.8660 |                 D loss: 0.8822 |                 G loss 1.5813\n",
      "            \n",
      "\n",
      "                Epoch: 1300 |                 D acc real: 0.7010 |                 D acc fake: 0.8351 |                 D loss: 0.8832 |                 G loss 1.6677\n",
      "            \n",
      "\n",
      "                Epoch: 1400 |                 D acc real: 0.8144 |                 D acc fake: 0.9072 |                 D loss: 0.8294 |                 G loss 1.6623\n",
      "            \n",
      "\n",
      "                Epoch: 1500 |                 D acc real: 0.8041 |                 D acc fake: 0.9278 |                 D loss: 0.6951 |                 G loss 2.0552\n",
      "            \n",
      "\n",
      "                Epoch: 1600 |                 D acc real: 0.8144 |                 D acc fake: 0.8866 |                 D loss: 0.6871 |                 G loss 2.2320\n",
      "            \n",
      "\n",
      "                Epoch: 1700 |                 D acc real: 0.7629 |                 D acc fake: 0.8763 |                 D loss: 0.7033 |                 G loss 2.1494\n",
      "            \n",
      "\n",
      "                Epoch: 1800 |                 D acc real: 0.8247 |                 D acc fake: 0.9278 |                 D loss: 0.6148 |                 G loss 2.0776\n",
      "            \n",
      "\n",
      "                Epoch: 1900 |                 D acc real: 0.8351 |                 D acc fake: 0.9072 |                 D loss: 0.6757 |                 G loss 2.2213\n",
      "            \n",
      "\n",
      "                Epoch: 2000 |                 D acc real: 0.8866 |                 D acc fake: 0.9175 |                 D loss: 0.5313 |                 G loss 2.5354\n",
      "            \n"
     ]
    }
   ],
   "source": [
    "discriminator_filename = 'custom_discriminator.pt'\n",
    "generator_filename = 'custom_generator.pt'\n",
    "\n",
    "if os.path.exists(discriminator_filename) and os.path.exists(generator_filename):\n",
    "    discriminator.load_state_dict(torch.load(discriminator_filename, weights_only=True))\n",
    "    generator.load_state_dict(torch.load(generator_filename, weights_only=True))\n",
    "else:\n",
    "    \n",
    "    num_epochs = 2001\n",
    "    \n",
    "    for epoch in range(num_epochs):\n",
    "        for i, (X, y) in enumerate(dataloader):\n",
    "    \n",
    "            y_real = torch.ones(len(X), 1)\n",
    "            y_fake = torch.zeros(len(X), 1)\n",
    "    \n",
    "            # TRAIN DISCRIMINATOR\n",
    "            discriminator_optimizer.zero_grad()\n",
    "\n",
    "            # Train on real images\n",
    "            y_pred_real = discriminator(X)\n",
    "            discriminator_loss_real = loss_fn(y_pred_real, y_real)\n",
    "\n",
    "            # Train on generated images\n",
    "            noise = torch.randn(len(X), latent_dim)\n",
    "            generated_images = generator(noise)\n",
    "            y_pred_fake = discriminator(generated_images.detach())\n",
    "            discriminator_loss_fake = loss_fn(y_pred_fake, y_fake)\n",
    "\n",
    "            # Combine losses -> backprop -> gradient descent\n",
    "            discriminator_loss = discriminator_loss_fake + discriminator_loss_real\n",
    "            discriminator_loss.backward()\n",
    "            discriminator_optimizer.step()\n",
    "    \n",
    "            # TRAIN GENERATOR\n",
    "            generator_optimizer.zero_grad()\n",
    "            y_pred_fake = discriminator(generated_images)\n",
    "            generator_loss = loss_fn(y_pred_fake, y_real)\n",
    "            generator_loss.backward()\n",
    "            generator_optimizer.step()\n",
    "            \n",
    "        if epoch % 100 == 0:\n",
    "            print(f\"\"\"\n",
    "                Epoch: {epoch} | \\\n",
    "                D acc real: {(y_pred_real > .5).float().mean().item():.4f} | \\\n",
    "                D acc fake: {(y_pred_fake < .5).float().mean().item():.4f} | \\\n",
    "                D loss: {discriminator_loss.item():.4f} | \\\n",
    "                G loss {generator_loss.item():.4f}\n",
    "            \"\"\")\n",
    "    torch.save(discriminator.state_dict(), discriminator_filename)\n",
    "    torch.save(generator.state_dict(), generator_filename)"
   ]
  },
  {
   "cell_type": "markdown",
   "id": "0e2d30d4-7e4e-42f8-a37b-92a5e284362b",
   "metadata": {},
   "source": [
    "You may notice that we are training for way more epochs that usual (2000!) and the models still appear to have not converged as their losses are oscillating. That is because they are constantly adapting to each other and is what makes training GANs so hard in practice since good balance must be found. If the discriminator is too good, the generator wouldn't know how to improve. Analogically, if the discriminator is fooled every time, the generator would have no opportunity to get better either.\n",
    "\n",
    "The above implementation is the 2-stage training framework:\n",
    "\n",
    "- Stage 1: Train the discriminator on a batch of real images and a batch of generated images. Keep the generator fixed.\n",
    "- Stage 2: Train the generator with the just-updated discriminator's feedback on its recently generated images. Keep the discriminator fixed.\n",
    "\n",
    "## Evaluation\n",
    "\n",
    "We can use our trained generator to create new synthetic datapoints:"
   ]
  },
  {
   "cell_type": "code",
   "execution_count": 8,
   "id": "ec7f3255-697a-4c22-9e00-ae3819af53a1",
   "metadata": {},
   "outputs": [
    {
     "data": {
      "image/png": "[encoded data removed]",
      "text/plain": [
       "<Figure size 640x480 with 16 Axes>"
      ]
     },
     "metadata": {},
     "output_type": "display_data"
    }
   ],
   "source": [
    "noise = torch.randn(16, latent_dim)\n",
    "with torch.inference_mode():\n",
    "    fake_images = generator(noise).reshape(-1, 8, 8)\n",
    "fig, ax = plt.subplots(4, 4)\n",
    "for image, a in zip(fake_images, ax.flatten()):\n",
    "    a.imshow(image, cmap='gray')\n",
    "    a.axis('off')\n",
    "plt.tight_layout()\n",
    "plt.show()"
   ]
  },
  {
   "cell_type": "markdown",
   "id": "6943bc6e-d67d-417c-a713-5c4ff8bf1bbc",
   "metadata": {},
   "source": [
    "If you really squint your eyes you can see some digit-like patterns!"
   ]
  },
  {
   "cell_type": "markdown",
   "id": "57940050-6523-4681-9d68-3f5307c9dff4",
   "metadata": {},
   "source": [
    "## Your Task\n",
    "\n",
    "Although GANs are unsupervised models, they can benefit from the available labels! Implement the so-called Conditional GANs (CGANs), where both the generator and the discriminator receive a label together with their current input. That way we can manually *prompt* the generator to produce images of the digit 4 instead of just generating images of random digits. Normally, the labels are embedded in lower-dimensional space using a separate neural network. In our case we have only 10 labels so we can directly pass them as is (of course, after we have one-hot encoded them).\n",
    "\n",
    "Naturally, the generator does not receive images as inputs (only random noise), so during training we can just pass random labels to it. Make sure that you pass the same label to the discriminator as well!"
   ]
  },
  {
   "cell_type": "code",
   "execution_count": null,
   "id": "c11bbde4-706e-4df8-a02c-b3747ca67a19",
   "metadata": {},
   "outputs": [],
   "source": [
    "# Your code here"
   ]
  }
 ],
 "metadata": {
  "kernelspec": {
   "display_name": "Python 3 (ipykernel)",
   "language": "python",
   "name": "python3"
  },
  "language_info": {
   "codemirror_mode": {
    "name": "ipython",
    "version": 3
   },
   "file_extension": ".py",
   "mimetype": "text/x-python",
   "name": "python",
   "nbconvert_exporter": "python",
   "pygments_lexer": "ipython3",
   "version": "3.10.12"
  }
 },
 "nbformat": 4,
 "nbformat_minor": 5
}
